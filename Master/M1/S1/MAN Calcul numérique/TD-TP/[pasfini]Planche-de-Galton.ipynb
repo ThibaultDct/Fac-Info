{
 "cells": [
  {
   "cell_type": "markdown",
   "metadata": {},
   "source": [
    "# Version sans numpy"
   ]
  },
  {
   "cell_type": "code",
   "execution_count": 28,
   "metadata": {},
   "outputs": [
    {
     "name": "stdout",
     "output_type": "stream",
     "text": [
      "Indiquez le nombre de billes à faire tomber : \n",
      "1000\n",
      "Indiquez le nombre de clous à mettre sur la planche : \n",
      "150\n",
      "[0, 0, 0, 0, 0, 0, 0, 0, 0, 0, 0, 0, 0, 0, 0, 0, 0, 0, 0, 0, 0, 0, 0, 0, 0, 0, 0, 0, 0, 0, 0, 1, 0, 0, 0, 0, 0, 1, 0, 1, 0, 2, 0, 0, 0, 3, 0, 3, 0, 4, 0, 11, 0, 14, 0, 14, 0, 22, 0, 31, 0, 43, 0, 38, 0, 43, 0, 52, 0, 57, 0, 55, 0, 74, 0, 62, 0, 63, 0, 59, 0, 61, 0, 63, 0, 40, 0, 38, 0, 43, 0, 32, 0, 23, 0, 16, 0, 7, 0, 7, 0, 5, 0, 6, 0, 2, 0, 0, 0, 1, 0, 0, 0, 1, 0, 0, 0, 0, 0, 2, 0, 0, 0, 0, 0, 0, 0, 0, 0, 0, 0, 0, 0, 0, 0, 0, 0, 0, 0, 0, 0, 0, 0, 0, 0, 0, 0, 0, 0, 0]\n"
     ]
    },
    {
     "data": {
      "image/png": "[encoded data removed]",
      "text/plain": [
       "<matplotlib.figure.Figure at 0x7fd251014240>"
      ]
     },
     "metadata": {},
     "output_type": "display_data"
    }
   ],
   "source": [
    "import matplotlib.pyplot as plt\n",
    "import random\n",
    "\n",
    "def galton(nbBilles,nbClous):\n",
    "    nbBilles = int(nbBilles)\n",
    "    nbClous = int(nbClous)\n",
    "    tab = [0,]*(nbClous)\n",
    "    \n",
    "    for bille in range(0,nbBilles):\n",
    "        pos = int(nbClous/2) #Bille positionnée au milieu de la planche\n",
    "        for clou in range(0,nbClous):\n",
    "            r = random.random()\n",
    "            if r > 0.5: pos = pos + 1 \n",
    "            else: pos = pos - 1\n",
    "        tab[pos] = tab[pos] + 1\n",
    "    \n",
    "    print(tab)\n",
    "    plt.title('Répartition des billes sur la planche de Galton')\n",
    "    plt.xlabel(\"Nombre de clous de la planche\")\n",
    "    plt.ylabel(\"Nombre de billes tombées\")\n",
    "    plt.plot(tab,'x')\n",
    "    plt.show()\n",
    "\n",
    "print(\"Indiquez le nombre de billes à faire tomber : \")\n",
    "nbBilles = input()\n",
    "print(\"Indiquez le nombre de clous à mettre sur la planche : \")\n",
    "nbClous = input()\n",
    "galton(nbBilles,nbClous)"
   ]
  },
  {
   "cell_type": "markdown",
   "metadata": {},
   "source": [
    "# Version avec numpy"
   ]
  },
  {
   "cell_type": "code",
   "execution_count": 39,
   "metadata": {},
   "outputs": [
    {
     "name": "stdout",
     "output_type": "stream",
     "text": [
      "Indiquez le nombre de billes à faire tomber : \n",
      "100\n",
      "Indiquez le nombre de clous à mettre sur la planche : \n",
      "15\n"
     ]
    },
    {
     "data": {
      "text/plain": [
       "array([0, 0, 0, 0, 0, 0, 1, 0, 0, 0, 0, 0, 0, 0, 0])"
      ]
     },
     "execution_count": 39,
     "metadata": {},
     "output_type": "execute_result"
    }
   ],
   "source": [
    "import numpy as np\n",
    "import numpy.random as npr\n",
    "import matplotlib.pyplot as plt\n",
    "\n",
    "def galton(nbBilles, nbClous):\n",
    "    nbBilles = int(nbBilles)\n",
    "    nbClous = int(nbClous)\n",
    "    tab = np.zeros(nbClous,np.int)\n",
    "    it = np.nditer(tab)\n",
    "    \n",
    "    pos = int(nbClous/2)\n",
    "    r = npr.random()\n",
    "    if(r > 0.5): pos = pos+1\n",
    "    else: pos = pos-1\n",
    "    tab[pos] = tab[pos] + 1\n",
    "        \n",
    "    return tab\n",
    "\n",
    "print(\"Indiquez le nombre de billes à faire tomber : \")\n",
    "nbBilles = input()\n",
    "print(\"Indiquez le nombre de clous à mettre sur la planche : \")\n",
    "nbClous = input()\n",
    "galton(nbBilles, nbClous) "
   ]
  }
 ],
 "metadata": {
  "kernelspec": {
   "display_name": "Python 3",
   "language": "python",
   "name": "python3"
  },
  "language_info": {
   "codemirror_mode": {
    "name": "ipython",
    "version": 3
   },
   "file_extension": ".py",
   "mimetype": "text/x-python",
   "name": "python",
   "nbconvert_exporter": "python",
   "pygments_lexer": "ipython3",
   "version": "3.6.2"
  }
 },
 "nbformat": 4,
 "nbformat_minor": 1
}
