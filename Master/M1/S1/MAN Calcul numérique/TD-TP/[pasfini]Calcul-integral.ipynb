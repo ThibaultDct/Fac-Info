{
 "cells": [
  {
   "cell_type": "markdown",
   "metadata": {
    "collapsed": true
   },
   "source": [
    "# TP Calcul d'intégrale"
   ]
  },
  {
   "cell_type": "markdown",
   "metadata": {},
   "source": [
    "## 3 méthodes : Rectangles, Trapèzes et Simpson"
   ]
  },
  {
   "cell_type": "code",
   "execution_count": null,
   "metadata": {},
   "outputs": [],
   "source": [
    "############### Aide\n",
    "#http://bcpst.feray.fr/sites/bcpst.feray.fr/files/Euler-Rect.py.txt\n",
    "#https://www.apprendre-en-ligne.net/pymath/support.pdf\n",
    "#http://www.courspython.com/integration-numerique.html"
   ]
  },
  {
   "cell_type": "code",
   "execution_count": 20,
   "metadata": {},
   "outputs": [
    {
     "name": "stdout",
     "output_type": "stream",
     "text": [
      "Par la méthode des rectangles, l'intégrale de √(1-x²) est :  0.785888866728\n",
      "Par la méthode des trapèzes, l'intégrale de √(1-x²) est :  0.785388866728\n",
      "Par la méthode de Simpson, l'intégrale de √(1-x²) est : 0.785396879728\n"
     ]
    },
    {
     "name": "stderr",
     "output_type": "stream",
     "text": [
      "/opt/conda/lib/python3.6/site-packages/ipykernel_launcher.py:6: RuntimeWarning: invalid value encountered in sqrt\n",
      "  \n"
     ]
    },
    {
     "data": {
      "image/png": "[encoded data removed]",
      "text/plain": [
       "<matplotlib.figure.Figure at 0x7f80d2136278>"
      ]
     },
     "metadata": {},
     "output_type": "display_data"
    }
   ],
   "source": [
    "import matplotlib.pyplot as plt\n",
    "import numpy as np\n",
    "\n",
    "#Fonction à intégrer\n",
    "def f(x):\n",
    "    return np.sqrt(1-x**2)\n",
    "\n",
    "#Méthode des rectangles\n",
    "def rectangles(f,a,b,n):\n",
    "    integrale = 0\n",
    "    for i in range(0,n):\n",
    "        p = (b-a)/n\n",
    "        integrale += f(a+i*p)\n",
    "    return integrale*p\n",
    "\n",
    "#Méthode des trapèzes\n",
    "def trapezes(f,a,b,n):\n",
    "    integrale = 0\n",
    "    p = (b-a)/n\n",
    "    for i in range(1,n):\n",
    "        integrale += f(a+i*p)\n",
    "    integrale += (f(a)+f(b))/2\n",
    "    return integrale * p\n",
    "\n",
    "#Méthode de Simpson\n",
    "def simpson(f,a,b,n):\n",
    "    integrale = f(a) + f(b)\n",
    "    p = (b-a)/n\n",
    "    for i in range(0,n):\n",
    "        integrale += 4*f(a+(2*i+1)*p/2)\n",
    "    for i in range(1,n):\n",
    "        integrale += 2*f(a+(2*i)*p/2)\n",
    "    return integrale*p/6\n",
    "\n",
    "\n",
    "#Résultats\n",
    "print(\"Par la méthode des rectangles, l'intégrale de √(1-x²) est : \", rectangles(f,0,1,1000))\n",
    "print(\"Par la méthode des trapèzes, l'intégrale de √(1-x²) est : \", trapezes(f,0,1,1000))\n",
    "print(\"Par la méthode de Simpson, l'intégrale de √(1-x²) est :\", simpson(f,0,1,1000))\n",
    "\n",
    "#x = np.linspace(0,10**7,7)\n",
    "x = np.linspace(0,10)\n",
    "plt.title(\"Représentation graphique de √1-x²\")\n",
    "plt.plot(x,f(x),'r-')\n",
    "plt.show()\n"
   ]
  },
  {
   "cell_type": "markdown",
   "metadata": {},
   "source": [
    "# Version seulement avec numpy"
   ]
  },
  {
   "cell_type": "code",
   "execution_count": null,
   "metadata": {},
   "outputs": [],
   "source": [
    "import numpy as np\n",
    "\n",
    "#Fonction à intégrer\n",
    "def f(x):\n",
    "    return np.sqrt(1-x**2)\n",
    "\n",
    "#Méthode des rectangles\n",
    "def rectangles():\n",
    "    res = 0\n",
    "    \n",
    "    return res\n",
    "\n",
    "#Méthode des trapèzes\n",
    "def trapezes():\n",
    "    res = 0\n",
    "    return res\n",
    "\n",
    "#Méthode de Simpson\n",
    "def simpson():\n",
    "    res = 0\n",
    "    return res\n",
    "\n",
    "#Résultats\n",
    "print(\"Par la méthode des rectangles, l'intégrale de √(1-x²) est : \", rectangles(f,0,1,1000))\n",
    "print(\"Par la méthode des trapèzes, l'intégrale de √(1-x²) est : \", trapezes(f,0,1,1000))\n",
    "print(\"Par la méthode de Simpson, l'intégrale de √(1-x²) est :\", simpson(f,0,1,1000))"
   ]
  }
 ],
 "metadata": {
  "kernelspec": {
   "display_name": "Python 3",
   "language": "python",
   "name": "python3"
  },
  "language_info": {
   "codemirror_mode": {
    "name": "ipython",
    "version": 3
   },
   "file_extension": ".py",
   "mimetype": "text/x-python",
   "name": "python",
   "nbconvert_exporter": "python",
   "pygments_lexer": "ipython3",
   "version": "3.6.2"
  }
 },
 "nbformat": 4,
 "nbformat_minor": 1
}
